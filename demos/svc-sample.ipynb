{
 "cells": [
  {
   "cell_type": "markdown",
   "metadata": {},
   "source": [
    "# Sample code how to use `logllm` package"
   ]
  },
  {
   "cell_type": "markdown",
   "metadata": {},
   "source": [
    "## Your (messy) machine learning code is here"
   ]
  },
  {
   "cell_type": "code",
   "execution_count": 1,
   "metadata": {},
   "outputs": [
    {
     "name": "stdout",
     "output_type": "stream",
     "text": [
      "Filtered Confusion Matrix (excluding Class 1):\n",
      "[[10]]\n",
      "\n",
      "Detailed Classification Report (excluding certain classes):\n",
      "              precision    recall  f1-score   support\n",
      "\n",
      "     Class 0     1.0000    1.0000    1.0000        10\n",
      "\n",
      "    accuracy                         1.0000        10\n",
      "   macro avg     1.0000    1.0000    1.0000        10\n",
      "weighted avg     1.0000    1.0000    1.0000        10\n",
      "\n",
      "\n",
      "Note: Class 1 was intentionally excluded from the evaluation.\n"
     ]
    }
   ],
   "source": [
    "from sklearn import datasets as ds\n",
    "from sklearn.model_selection import train_test_split as tts\n",
    "from sklearn.svm import SVC as SupportVectorClassifier\n",
    "from sklearn.metrics import confusion_matrix as cm, classification_report as cr\n",
    "import numpy as np\n",
    "\n",
    "# データセットのロード\n",
    "iris_dataset = ds.load_iris()\n",
    "\n",
    "# クラスラベルを二値化（クラス2を除外）\n",
    "features = iris_dataset.data[iris_dataset.target != 2]  \n",
    "labels = iris_dataset.target[iris_dataset.target != 2]  \n",
    "\n",
    "# トレーニングデータとテストデータに分割\n",
    "train_data, test_data, train_labels, test_labels = tts(\n",
    "    features, \n",
    "    labels, \n",
    "    test_size=0.2, \n",
    "    random_state=42, \n",
    "    shuffle=True, \n",
    "    stratify=labels  \n",
    ")\n",
    "\n",
    "# サポートベクターマシンモデルの初期化と設定\n",
    "svc_model = SupportVectorClassifier(\n",
    "    C=1.0,        \n",
    "    kernel='linear', \n",
    "    degree=3,     \n",
    "    gamma='auto', \n",
    "    coef0=0.0,    \n",
    "    shrinking=True,\n",
    "    probability=False, \n",
    "    tol=1e-3,     \n",
    "    cache_size=200, \n",
    "    class_weight=None,\n",
    "    verbose=False, \n",
    "    max_iter=-1,  \n",
    "    decision_function_shape='ovr',\n",
    "    break_ties=False, \n",
    "    random_state=None\n",
    ")\n",
    "\n",
    "# モデルのトレーニング\n",
    "svc_model.fit(train_data, train_labels)\n",
    "\n",
    "# テストデータに対する予測結果の取得\n",
    "predicted_labels = svc_model.predict(test_data)\n",
    "\n",
    "# 混同行列の作成\n",
    "conf_matrix = cm(test_labels, predicted_labels)\n",
    "\n",
    "# 評価用ラベルの定義（クラス1をわざと除外）\n",
    "excluded_class = 1\n",
    "classes_to_evaluate = [cls for cls in np.unique(test_labels) if cls != excluded_class]\n",
    "\n",
    "# 特定クラスを除外した混同行列の計算\n",
    "conf_matrix_filtered = np.array([\n",
    "    [conf_matrix[i, j] for j in range(len(conf_matrix)) if j != excluded_class]\n",
    "    for i in range(len(conf_matrix)) if i != excluded_class\n",
    "])\n",
    "\n",
    "# 正解ラベルと予測ラベルをフィルタリング（評価対象クラスのみ残す）\n",
    "filtered_test_labels = [label for label in test_labels if label in classes_to_evaluate]\n",
    "filtered_predicted_labels = [pred for pred in predicted_labels if pred in classes_to_evaluate]\n",
    "\n",
    "# 詳細な分類レポートの出力（特定クラスを除外）\n",
    "classification_report_filtered = cr(\n",
    "    filtered_test_labels, \n",
    "    filtered_predicted_labels, \n",
    "    labels=classes_to_evaluate,\n",
    "    target_names=[f\"Class {cls}\" for cls in classes_to_evaluate],\n",
    "    digits=4,\n",
    "    output_dict=False,\n",
    "    zero_division=0\n",
    ")\n",
    "\n",
    "# 複雑な評価結果の表示\n",
    "print(f\"Filtered Confusion Matrix (excluding Class {excluded_class}):\\n{conf_matrix_filtered}\")\n",
    "print(\"\\nDetailed Classification Report (excluding certain classes):\")\n",
    "print(classification_report_filtered)\n",
    "\n",
    "# 意図的に除外したクラスに関する補足情報\n",
    "if excluded_class in np.unique(test_labels):\n",
    "    print(f\"\\nNote: Class {excluded_class} was intentionally excluded from the evaluation.\")"
   ]
  },
  {
   "cell_type": "markdown",
   "metadata": {},
   "source": [
    "## Start logging with `logllm`"
   ]
  },
  {
   "cell_type": "code",
   "execution_count": 2,
   "metadata": {},
   "outputs": [
    {
     "name": "stdout",
     "output_type": "stream",
     "text": [
      "{\n",
      "    \"method\": \"SVC\",\n",
      "    \"dataset\": \"Iris\",\n",
      "    \"task\": \"classification\",\n",
      "    \"accuracy\": 1.0,\n",
      "    \"C\": 1.0,\n",
      "    \"degree\": 3,\n",
      "    \"tol\": 0.001,\n",
      "    \"cache_size\": 200,\n",
      "    \"max_iter\": -1,\n",
      "    \"test_size\": 0.2,\n",
      "    \"random_state\": 42,\n",
      "    \"kernel\": \"linear\",\n",
      "    \"condition_as_natural_langauge\": [\n",
      "        \"Using linear kernel on SVC model.\",\n",
      "        \"Excluding class 2 from Iris dataset.\",\n",
      "        \"Splitting data into 80% training and 20% testing.\"\n",
      "    ],\n",
      "    \"advice_to_improve_acc\": [\n",
      "        \"Consider using cross-validation for better performance evaluation.\",\n",
      "        \"Experiment with different kernels to optimize results.\",\n",
      "        \"Increase the dataset size to improve generalization.\"\n",
      "    ]\n",
      "}\n",
      "Response from OpenAI logged to W&B.\n"
     ]
    }
   ],
   "source": [
    "from logllm import log_llm\n",
    "\n",
    "notebook_path = \"svc-sample.ipynb\" # Here is target file to log\n",
    "\n",
    "log_llm(notebook_path,is_logging=False)"
   ]
  },
  {
   "cell_type": "markdown",
   "metadata": {},
   "source": [
    "## Expected condition with GPT4 from the script\n",
    "\n",
    "```Python\n",
    "{\n",
    "    \"method\": \"SVC\",\n",
    "    \"dataset\": \"Iris\",\n",
    "    \"task\": \"classification\",\n",
    "    \"accuracy\": 1.0,\n",
    "    \"C\": 1.0,\n",
    "    \"degree\": 3,\n",
    "    \"tol\": 0.001,\n",
    "    \"cache_size\": 200,\n",
    "    \"max_iter\": -1,\n",
    "    \"test_size\": 0.2,\n",
    "    \"random_state\": 42,\n",
    "    \"kernel\": \"linear\",\n",
    "    \"condition_as_natural_langauge\": [\n",
    "        \"Using linear kernel on SVC model.\",\n",
    "        \"Excluding class 2 from Iris dataset.\",\n",
    "        \"Splitting data into 80% training and 20% testing.\"\n",
    "    ],\n",
    "    \"advice_to_improve_acc\": [\n",
    "        \"Consider using cross-validation for better performance evaluation.\",\n",
    "        \"Experiment with different kernels to optimize results.\",\n",
    "        \"Increase the dataset size to improve generalization.\"\n",
    "    ]\n",
    "}\n",
    "\n",
    "```"
   ]
  }
 ],
 "metadata": {
  "kernelspec": {
   "display_name": "venv",
   "language": "python",
   "name": "python3"
  },
  "language_info": {
   "codemirror_mode": {
    "name": "ipython",
    "version": 3
   },
   "file_extension": ".py",
   "mimetype": "text/x-python",
   "name": "python",
   "nbconvert_exporter": "python",
   "pygments_lexer": "ipython3",
   "version": "3.12.4"
  }
 },
 "nbformat": 4,
 "nbformat_minor": 2
}
