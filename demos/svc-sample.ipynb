{
 "cells": [
  {
   "cell_type": "markdown",
   "metadata": {},
   "source": [
    "# Sample code how to use `logllm` package"
   ]
  },
  {
   "cell_type": "markdown",
   "metadata": {},
   "source": [
    "## Your (messy) machine learning code is here"
   ]
  },
  {
   "cell_type": "code",
   "execution_count": 1,
   "metadata": {},
   "outputs": [
    {
     "name": "stdout",
     "output_type": "stream",
     "text": [
      "Filtered Confusion Matrix (excluding Class 1):\n",
      "[[10]]\n",
      "\n",
      "Detailed Classification Report (excluding certain classes):\n",
      "              precision    recall  f1-score   support\n",
      "\n",
      "     Class 0     1.0000    1.0000    1.0000        10\n",
      "\n",
      "    accuracy                         1.0000        10\n",
      "   macro avg     1.0000    1.0000    1.0000        10\n",
      "weighted avg     1.0000    1.0000    1.0000        10\n",
      "\n",
      "\n",
      "Note: Class 1 was intentionally excluded from the evaluation.\n"
     ]
    }
   ],
   "source": [
    "from sklearn import datasets as ds\n",
    "from sklearn.model_selection import train_test_split as tts\n",
    "from sklearn.svm import SVC as SupportVectorClassifier\n",
    "from sklearn.metrics import confusion_matrix as cm, classification_report as cr\n",
    "import numpy as np\n",
    "\n",
    "# Load the dataset\n",
    "iris_dataset = ds.load_iris()\n",
    "\n",
    "# Binarize the class labels (exclude Class 2)\n",
    "features = iris_dataset.data[iris_dataset.target != 2]  \n",
    "labels = iris_dataset.target[iris_dataset.target != 2]  \n",
    "\n",
    "# Split the data into training and test sets\n",
    "train_data, test_data, train_labels, test_labels = tts(\n",
    "    features, \n",
    "    labels, \n",
    "    test_size=0.2, \n",
    "    random_state=42, \n",
    "    shuffle=True, \n",
    "    stratify=labels  \n",
    ")\n",
    "\n",
    "# Initialize and configure the Support Vector Machine model\n",
    "svc_model = SupportVectorClassifier(\n",
    "    C=1.0,        \n",
    "    kernel='linear', \n",
    "    degree=3,     \n",
    "    gamma='auto', \n",
    "    coef0=0.0,    \n",
    "    shrinking=True,\n",
    "    probability=False, \n",
    "    tol=1e-3,     \n",
    "    cache_size=200, \n",
    "    class_weight=None,\n",
    "    verbose=False, \n",
    "    max_iter=-1,  \n",
    "    decision_function_shape='ovr',\n",
    "    break_ties=False, \n",
    "    random_state=None\n",
    ")\n",
    "\n",
    "# Train the model\n",
    "svc_model.fit(train_data, train_labels)\n",
    "\n",
    "# Obtain the predicted results for the test data\n",
    "predicted_labels = svc_model.predict(test_data)\n",
    "\n",
    "# Create the confusion matrix\n",
    "conf_matrix = cm(test_labels, predicted_labels)\n",
    "\n",
    "# Define evaluation labels (intentionally exclude Class 1)\n",
    "excluded_class = 1\n",
    "classes_to_evaluate = [cls for cls in np.unique(test_labels) if cls != excluded_class]\n",
    "\n",
    "# Calculate confusion matrix with the excluded class removed\n",
    "conf_matrix_filtered = np.array([\n",
    "    [conf_matrix[i, j] for j in range(len(conf_matrix)) if j != excluded_class]\n",
    "    for i in range(len(conf_matrix)) if i != excluded_class\n",
    "])\n",
    "\n",
    "# Filter true labels and predicted labels (only keep the evaluated classes)\n",
    "filtered_test_labels = [label for label in test_labels if label in classes_to_evaluate]\n",
    "filtered_predicted_labels = [pred for pred in predicted_labels if pred in classes_to_evaluate]\n",
    "\n",
    "# Output a detailed classification report (excluding the specified class)\n",
    "classification_report_filtered = cr(\n",
    "    filtered_test_labels, \n",
    "    filtered_predicted_labels, \n",
    "    labels=classes_to_evaluate,\n",
    "    target_names=[f\"Class {cls}\" for cls in classes_to_evaluate],\n",
    "    digits=4,\n",
    "    output_dict=False,\n",
    "    zero_division=0\n",
    ")\n",
    "\n",
    "# Display the complex evaluation results\n",
    "print(f\"Filtered Confusion Matrix (excluding Class {excluded_class}):\\n{conf_matrix_filtered}\")\n",
    "print(\"\\nDetailed Classification Report (excluding certain classes):\")\n",
    "print(classification_report_filtered)\n",
    "\n",
    "# Provide a note regarding the intentionally excluded class\n",
    "if excluded_class in np.unique(test_labels):\n",
    "    print(f\"\\nNote: Class {excluded_class} was intentionally excluded from the evaluation.\")"
   ]
  },
  {
   "cell_type": "code",
   "execution_count": 4,
   "metadata": {},
   "outputs": [
    {
     "name": "stderr",
     "output_type": "stream",
     "text": [
      "Failed to detect the name of this notebook, you can set it manually with the WANDB_NOTEBOOK_NAME environment variable to enable code saving.\n",
      "\u001b[34m\u001b[1mwandb\u001b[0m: Currently logged in as: \u001b[33mjakingsarchly\u001b[0m (\u001b[33mjakingsarchly-aj-technologies\u001b[0m). Use \u001b[1m`wandb login --relogin`\u001b[0m to force relogin\n"
     ]
    },
    {
     "data": {
      "application/vnd.jupyter.widget-view+json": {
       "model_id": "5645fa146bad499586e5d77c04729e08",
       "version_major": 2,
       "version_minor": 0
      },
      "text/plain": [
       "VBox(children=(Label(value='Waiting for wandb.init()...\\r'), FloatProgress(value=0.011181736244341461, max=1.0…"
      ]
     },
     "metadata": {},
     "output_type": "display_data"
    },
    {
     "data": {
      "text/html": [
       "wandb version 0.18.0 is available!  To upgrade, please run:\n",
       " $ pip install wandb --upgrade"
      ],
      "text/plain": [
       "<IPython.core.display.HTML object>"
      ]
     },
     "metadata": {},
     "output_type": "display_data"
    },
    {
     "data": {
      "text/html": [
       "Tracking run with wandb version 0.17.7"
      ],
      "text/plain": [
       "<IPython.core.display.HTML object>"
      ]
     },
     "metadata": {},
     "output_type": "display_data"
    },
    {
     "data": {
      "text/html": [
       "Run data is saved locally in <code>/Users/jake/vscode/logllm/demos/wandb/run-20240914_060949-s287yjqk</code>"
      ],
      "text/plain": [
       "<IPython.core.display.HTML object>"
      ]
     },
     "metadata": {},
     "output_type": "display_data"
    },
    {
     "data": {
      "text/html": [
       "Syncing run <strong><a href='https://wandb.ai/jakingsarchly-aj-technologies/Machine%20learning/runs/s287yjqk' target=\"_blank\">proud-darkness-12</a></strong> to <a href='https://wandb.ai/jakingsarchly-aj-technologies/Machine%20learning' target=\"_blank\">Weights & Biases</a> (<a href='https://wandb.me/run' target=\"_blank\">docs</a>)<br/>"
      ],
      "text/plain": [
       "<IPython.core.display.HTML object>"
      ]
     },
     "metadata": {},
     "output_type": "display_data"
    },
    {
     "data": {
      "text/html": [
       " View project at <a href='https://wandb.ai/jakingsarchly-aj-technologies/Machine%20learning' target=\"_blank\">https://wandb.ai/jakingsarchly-aj-technologies/Machine%20learning</a>"
      ],
      "text/plain": [
       "<IPython.core.display.HTML object>"
      ]
     },
     "metadata": {},
     "output_type": "display_data"
    },
    {
     "data": {
      "text/html": [
       " View run at <a href='https://wandb.ai/jakingsarchly-aj-technologies/Machine%20learning/runs/s287yjqk' target=\"_blank\">https://wandb.ai/jakingsarchly-aj-technologies/Machine%20learning/runs/s287yjqk</a>"
      ],
      "text/plain": [
       "<IPython.core.display.HTML object>"
      ]
     },
     "metadata": {},
     "output_type": "display_data"
    },
    {
     "data": {
      "image/png": "[encoded data removed]",
      "text/plain": [
       "<Figure size 1000x600 with 1 Axes>"
      ]
     },
     "metadata": {},
     "output_type": "display_data"
    }
   ],
   "source": [
    "from logllm.log_llm import log_llm\n",
    "from logllm.plot import plot_ml_metrics\n",
    "# code_string = extract_notebook_code(notebook_path)\n",
    "notebook_path = \"svc-sample.ipynb\" \n",
    "\n",
    "# Extract experimental conditions and results using log_llm\n",
    "code_string = log_llm(notebook_path, project_name=\"Machine learning\", is_logging=True, provider=\"gemini\")\n",
    "\n",
    "# Plot the response from the query\n",
    "plot_ml_metrics(code_string)\n",
    "\n"
   ]
  },
  {
   "cell_type": "markdown",
   "metadata": {},
   "source": [
    "## Expected condition with GPT4 from the script\n",
    "\n",
    "```Python\n",
    "{\n",
    "    \"method\": \"SVC\",\n",
    "    \"dataset\": \"Iris\",\n",
    "    \"task\": \"classification\",\n",
    "    \"accuracy\": 1.0,\n",
    "    \"C\": 1.0,\n",
    "    \"degree\": 3,\n",
    "    \"tol\": 0.001,\n",
    "    \"cache_size\": 200,\n",
    "    \"max_iter\": -1,\n",
    "    \"test_size\": 0.2,\n",
    "    \"random_state\": 42,\n",
    "    \"kernel\": \"linear\",\n",
    "    \"condition_as_natural_langauge\": [\n",
    "        \"Using linear kernel on SVC model.\",\n",
    "        \"Excluding class 2 from Iris dataset.\",\n",
    "        \"Splitting data into 80% training and 20% testing.\"\n",
    "    ],\n",
    "    \"advice_to_improve_acc\": [\n",
    "        \"Consider using cross-validation for better performance evaluation.\",\n",
    "        \"Experiment with different kernels to optimize results.\",\n",
    "        \"Increase the dataset size to improve generalization.\"\n",
    "    ]\n",
    "}\n",
    "\n",
    "```"
   ]
  }
 ],
 "metadata": {
  "kernelspec": {
   "display_name": "venv",
   "language": "python",
   "name": "python3"
  },
  "language_info": {
   "codemirror_mode": {
    "name": "ipython",
    "version": 3
   },
   "file_extension": ".py",
   "mimetype": "text/x-python",
   "name": "python",
   "nbconvert_exporter": "python",
   "pygments_lexer": "ipython3",
   "version": "3.12.4"
  }
 },
 "nbformat": 4,
 "nbformat_minor": 2
}
