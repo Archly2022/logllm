{
 "cells": [
  {
   "cell_type": "markdown",
   "metadata": {},
   "source": [
    "# Sample code how to use `logllm` package"
   ]
  },
  {
   "cell_type": "markdown",
   "metadata": {},
   "source": [
    "## Your machine learning code is here"
   ]
  },
  {
   "cell_type": "code",
   "execution_count": 1,
   "metadata": {},
   "outputs": [
    {
     "name": "stdout",
     "output_type": "stream",
     "text": [
      "Accuracy: 1.00\n"
     ]
    }
   ],
   "source": [
    "from sklearn import datasets\n",
    "from sklearn.model_selection import train_test_split\n",
    "from sklearn.svm import SVC\n",
    "from sklearn.metrics import accuracy_score\n",
    "\n",
    "iris = datasets.load_iris()\n",
    "\n",
    "X = iris.data[iris.target != 2] \n",
    "y = iris.target[iris.target != 2]  \n",
    "\n",
    "X_train, X_test, y_train, y_test = train_test_split(X, y, test_size=0.2, random_state=42)\n",
    "\n",
    "model = SVC(kernel='linear')\n",
    "model.fit(X_train, y_train)\n",
    "\n",
    "y_pred = model.predict(X_test)\n",
    "accuracy = accuracy_score(y_test, y_pred)\n",
    "\n",
    "print(f\"Accuracy: {accuracy:.2f}\")"
   ]
  },
  {
   "cell_type": "markdown",
   "metadata": {},
   "source": [
    "## Start logging with `logllm`"
   ]
  },
  {
   "cell_type": "code",
   "execution_count": 2,
   "metadata": {},
   "outputs": [
    {
     "name": "stderr",
     "output_type": "stream",
     "text": [
      "Failed to detect the name of this notebook, you can set it manually with the WANDB_NOTEBOOK_NAME environment variable to enable code saving.\n",
      "\u001b[34m\u001b[1mwandb\u001b[0m: Currently logged in as: \u001b[33mbaseconnect-wandb\u001b[0m (\u001b[33mbase-connect-wandb\u001b[0m). Use \u001b[1m`wandb login --relogin`\u001b[0m to force relogin\n"
     ]
    },
    {
     "data": {
      "text/html": [
       "Tracking run with wandb version 0.17.7"
      ],
      "text/plain": [
       "<IPython.core.display.HTML object>"
      ]
     },
     "metadata": {},
     "output_type": "display_data"
    },
    {
     "data": {
      "text/html": [
       "Run data is saved locally in <code>/Users/yusukemikami/Repos/logllm/demos/wandb/run-20240822_123555-gd49th5o</code>"
      ],
      "text/plain": [
       "<IPython.core.display.HTML object>"
      ]
     },
     "metadata": {},
     "output_type": "display_data"
    },
    {
     "data": {
      "text/html": [
       "Syncing run <strong><a href='https://wandb.ai/base-connect-wandb/logllm-sample/runs/gd49th5o' target=\"_blank\">polar-grass-51</a></strong> to <a href='https://wandb.ai/base-connect-wandb/logllm-sample' target=\"_blank\">Weights & Biases</a> (<a href='https://wandb.me/run' target=\"_blank\">docs</a>)<br/>"
      ],
      "text/plain": [
       "<IPython.core.display.HTML object>"
      ]
     },
     "metadata": {},
     "output_type": "display_data"
    },
    {
     "data": {
      "text/html": [
       " View project at <a href='https://wandb.ai/base-connect-wandb/logllm-sample' target=\"_blank\">https://wandb.ai/base-connect-wandb/logllm-sample</a>"
      ],
      "text/plain": [
       "<IPython.core.display.HTML object>"
      ]
     },
     "metadata": {},
     "output_type": "display_data"
    },
    {
     "data": {
      "text/html": [
       " View run at <a href='https://wandb.ai/base-connect-wandb/logllm-sample/runs/gd49th5o' target=\"_blank\">https://wandb.ai/base-connect-wandb/logllm-sample/runs/gd49th5o</a>"
      ],
      "text/plain": [
       "<IPython.core.display.HTML object>"
      ]
     },
     "metadata": {},
     "output_type": "display_data"
    },
    {
     "name": "stdout",
     "output_type": "stream",
     "text": [
      "{\n",
      "    \"method\": \"SVC\",\n",
      "    \"dataset\": \"Iris\",\n",
      "    \"task\": \"classification\",\n",
      "    \"is_advanced_method\": false,\n",
      "    \"is_latest_method\": \"\",\n",
      "    \"accuracy\": 1.00,\n",
      "    \"kernel\": \"linear\",\n",
      "    \"test_size\": 0.2,\n",
      "    \"random_state\": 42,\n",
      "    \"condition_as_natural_langauge\": [\"Using linear kernel on SVC model.\", \"Excluding class 2 from Iris dataset.\", \"Splitting data into 80% training and 20% testing.\"],\n",
      "    \"advice_to_improve_acc\": [\"Confirm dataset consistency.\", \"Consider cross-validation for validation.\", \"Experiment with other kernels such as RBF for potential improvement.\"]\n",
      "}\n",
      "Response from OpenAI logged to W&B.\n"
     ]
    }
   ],
   "source": [
    "from logllm import log_llm\n",
    "\n",
    "notebook_path = \"svc-sample.ipynb\" # Here is target file to log\n",
    "project_name = \"logllm-sample\" # project name for wandb\n",
    "\n",
    "log_llm(notebook_path,project_name)"
   ]
  },
  {
   "cell_type": "markdown",
   "metadata": {},
   "source": [
    "## Expected condition with GPT4 from the script\n",
    "\n",
    "```Python\n",
    "{\n",
    "    \"method\": \"SVC\",\n",
    "    \"dataset\": \"Iris\",\n",
    "    \"task\": \"classification\",\n",
    "    \"is_advanced_method\": false,\n",
    "    \"is_latest_method\": \"\",\n",
    "    \"accuracy\": 1.00,\n",
    "    \"kernel\": \"linear\",\n",
    "    \"test_size\": 0.2,\n",
    "    \"random_state\": 42,\n",
    "    \"condition_as_natural_langauge\": [\"Using linear kernel on SVC model.\", \"Excluding class 2 from Iris dataset.\", \"Splitting data into 80% training and 20% testing.\"],\n",
    "    \"advice_to_improve_acc\": [\"Confirm dataset consistency.\", \"Consider cross-validation for validation.\"]\n",
    "}\n",
    "\n",
    "```"
   ]
  }
 ],
 "metadata": {
  "kernelspec": {
   "display_name": "venv",
   "language": "python",
   "name": "python3"
  },
  "language_info": {
   "codemirror_mode": {
    "name": "ipython",
    "version": 3
   },
   "file_extension": ".py",
   "mimetype": "text/x-python",
   "name": "python",
   "nbconvert_exporter": "python",
   "pygments_lexer": "ipython3",
   "version": "3.12.4"
  }
 },
 "nbformat": 4,
 "nbformat_minor": 2
}
