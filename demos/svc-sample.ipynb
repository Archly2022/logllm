{
 "cells": [
  {
   "cell_type": "markdown",
   "metadata": {},
   "source": [
    "# Sample code how to use `logllm` package"
   ]
  },
  {
   "cell_type": "markdown",
   "metadata": {},
   "source": [
    "## Your (messy) machine learning code is here"
   ]
  },
  {
   "cell_type": "code",
   "execution_count": 14,
   "metadata": {},
   "outputs": [
    {
     "name": "stdout",
     "output_type": "stream",
     "text": [
      "Filtered Confusion Matrix (excluding Class 1):\n",
      "[[10]]\n",
      "\n",
      "Detailed Classification Report (excluding certain classes):\n",
      "              precision    recall  f1-score   support\n",
      "\n",
      "     Class 0     1.0000    1.0000    1.0000        10\n",
      "\n",
      "    accuracy                         1.0000        10\n",
      "   macro avg     1.0000    1.0000    1.0000        10\n",
      "weighted avg     1.0000    1.0000    1.0000        10\n",
      "\n",
      "\n",
      "Note: Class 1 was intentionally excluded from the evaluation.\n"
     ]
    }
   ],
   "source": [
    "from sklearn import datasets as ds\n",
    "from sklearn.model_selection import train_test_split as tts\n",
    "from sklearn.svm import SVC as SupportVectorClassifier\n",
    "from sklearn.metrics import confusion_matrix as cm, classification_report as cr\n",
    "import numpy as np\n",
    "\n",
    "# Load the dataset\n",
    "iris_dataset = ds.load_iris()\n",
    "\n",
    "# Binarize the class labels (exclude Class 2)\n",
    "features = iris_dataset.data[iris_dataset.target != 2]  \n",
    "labels = iris_dataset.target[iris_dataset.target != 2]  \n",
    "\n",
    "# Split the data into training and test sets\n",
    "train_data, test_data, train_labels, test_labels = tts(\n",
    "    features, \n",
    "    labels, \n",
    "    test_size=0.2, \n",
    "    random_state=42, \n",
    "    shuffle=True, \n",
    "    stratify=labels  \n",
    ")\n",
    "\n",
    "# Initialize and configure the Support Vector Machine model\n",
    "svc_model = SupportVectorClassifier(\n",
    "    C=1.0,        \n",
    "    kernel='linear', \n",
    "    degree=3,     \n",
    "    gamma='auto', \n",
    "    coef0=0.0,    \n",
    "    shrinking=True,\n",
    "    probability=False, \n",
    "    tol=1e-3,     \n",
    "    cache_size=200, \n",
    "    class_weight=None,\n",
    "    verbose=False, \n",
    "    max_iter=-1,  \n",
    "    decision_function_shape='ovr',\n",
    "    break_ties=False, \n",
    "    random_state=None\n",
    ")\n",
    "\n",
    "# Train the model\n",
    "svc_model.fit(train_data, train_labels)\n",
    "\n",
    "# Obtain the predicted results for the test data\n",
    "predicted_labels = svc_model.predict(test_data)\n",
    "\n",
    "# Create the confusion matrix\n",
    "conf_matrix = cm(test_labels, predicted_labels)\n",
    "\n",
    "# Define evaluation labels (intentionally exclude Class 1)\n",
    "excluded_class = 1\n",
    "classes_to_evaluate = [cls for cls in np.unique(test_labels) if cls != excluded_class]\n",
    "\n",
    "# Calculate confusion matrix with the excluded class removed\n",
    "conf_matrix_filtered = np.array([\n",
    "    [conf_matrix[i, j] for j in range(len(conf_matrix)) if j != excluded_class]\n",
    "    for i in range(len(conf_matrix)) if i != excluded_class\n",
    "])\n",
    "\n",
    "# Filter true labels and predicted labels (only keep the evaluated classes)\n",
    "filtered_test_labels = [label for label in test_labels if label in classes_to_evaluate]\n",
    "filtered_predicted_labels = [pred for pred in predicted_labels if pred in classes_to_evaluate]\n",
    "\n",
    "# Output a detailed classification report (excluding the specified class)\n",
    "classification_report_filtered = cr(\n",
    "    filtered_test_labels, \n",
    "    filtered_predicted_labels, \n",
    "    labels=classes_to_evaluate,\n",
    "    target_names=[f\"Class {cls}\" for cls in classes_to_evaluate],\n",
    "    digits=4,\n",
    "    output_dict=False,\n",
    "    zero_division=0\n",
    ")\n",
    "\n",
    "# Display the complex evaluation results\n",
    "print(f\"Filtered Confusion Matrix (excluding Class {excluded_class}):\\n{conf_matrix_filtered}\")\n",
    "print(\"\\nDetailed Classification Report (excluding certain classes):\")\n",
    "print(classification_report_filtered)\n",
    "\n",
    "# Provide a note regarding the intentionally excluded class\n",
    "if excluded_class in np.unique(test_labels):\n",
    "    print(f\"\\nNote: Class {excluded_class} was intentionally excluded from the evaluation.\")"
   ]
  },
  {
   "cell_type": "markdown",
   "metadata": {},
   "source": [
    "## Start logging with `logllm`"
   ]
  },
  {
   "cell_type": "code",
   "execution_count": 27,
   "metadata": {},
   "outputs": [
    {
     "data": {
      "text/html": [
       "Finishing last run (ID:0k33o6dd) before initializing another..."
      ],
      "text/plain": [
       "<IPython.core.display.HTML object>"
      ]
     },
     "metadata": {},
     "output_type": "display_data"
    },
    {
     "data": {
      "application/vnd.jupyter.widget-view+json": {
       "model_id": "97a074080cae47398d640efce9fbd7c8",
       "version_major": 2,
       "version_minor": 0
      },
      "text/plain": [
       "VBox(children=(Label(value='0.001 MB of 0.001 MB uploaded\\r'), FloatProgress(value=1.0, max=1.0)))"
      ]
     },
     "metadata": {},
     "output_type": "display_data"
    },
    {
     "data": {
      "text/html": [
       " View run <strong style=\"color:#cdcd00\">still-water-35</strong> at: <a href='https://wandb.ai/jakingsarchly-aj-technologies/svc-sample/runs/0k33o6dd' target=\"_blank\">https://wandb.ai/jakingsarchly-aj-technologies/svc-sample/runs/0k33o6dd</a><br/> View project at: <a href='https://wandb.ai/jakingsarchly-aj-technologies/svc-sample' target=\"_blank\">https://wandb.ai/jakingsarchly-aj-technologies/svc-sample</a><br/>Synced 5 W&B file(s), 0 media file(s), 0 artifact file(s) and 0 other file(s)"
      ],
      "text/plain": [
       "<IPython.core.display.HTML object>"
      ]
     },
     "metadata": {},
     "output_type": "display_data"
    },
    {
     "data": {
      "text/html": [
       "Find logs at: <code>./wandb/run-20240828_173350-0k33o6dd/logs</code>"
      ],
      "text/plain": [
       "<IPython.core.display.HTML object>"
      ]
     },
     "metadata": {},
     "output_type": "display_data"
    },
    {
     "data": {
      "text/html": [
       "The new W&B backend becomes opt-out in version 0.18.0; try it out with `wandb.require(\"core\")`! See https://wandb.me/wandb-core for more information."
      ],
      "text/plain": [
       "<IPython.core.display.HTML object>"
      ]
     },
     "metadata": {},
     "output_type": "display_data"
    },
    {
     "data": {
      "text/html": [
       "Successfully finished last run (ID:0k33o6dd). Initializing new run:<br/>"
      ],
      "text/plain": [
       "<IPython.core.display.HTML object>"
      ]
     },
     "metadata": {},
     "output_type": "display_data"
    },
    {
     "data": {
      "application/vnd.jupyter.widget-view+json": {
       "model_id": "309bc972e41a413198f404fa324e9660",
       "version_major": 2,
       "version_minor": 0
      },
      "text/plain": [
       "VBox(children=(Label(value='Waiting for wandb.init()...\\r'), FloatProgress(value=0.0114827127111817, max=1.0))…"
      ]
     },
     "metadata": {},
     "output_type": "display_data"
    },
    {
     "data": {
      "text/html": [
       "wandb version 0.17.8 is available!  To upgrade, please run:\n",
       " $ pip install wandb --upgrade"
      ],
      "text/plain": [
       "<IPython.core.display.HTML object>"
      ]
     },
     "metadata": {},
     "output_type": "display_data"
    },
    {
     "data": {
      "text/html": [
       "Tracking run with wandb version 0.17.7"
      ],
      "text/plain": [
       "<IPython.core.display.HTML object>"
      ]
     },
     "metadata": {},
     "output_type": "display_data"
    },
    {
     "data": {
      "text/html": [
       "Run data is saved locally in <code>/Users/jake/vscode/logllm/demos/wandb/run-20240828_173436-tzy0aus4</code>"
      ],
      "text/plain": [
       "<IPython.core.display.HTML object>"
      ]
     },
     "metadata": {},
     "output_type": "display_data"
    },
    {
     "data": {
      "text/html": [
       "Syncing run <strong><a href='https://wandb.ai/jakingsarchly-aj-technologies/svc-sample/runs/tzy0aus4' target=\"_blank\">hearty-frost-36</a></strong> to <a href='https://wandb.ai/jakingsarchly-aj-technologies/svc-sample' target=\"_blank\">Weights & Biases</a> (<a href='https://wandb.me/run' target=\"_blank\">docs</a>)<br/>"
      ],
      "text/plain": [
       "<IPython.core.display.HTML object>"
      ]
     },
     "metadata": {},
     "output_type": "display_data"
    },
    {
     "data": {
      "text/html": [
       " View project at <a href='https://wandb.ai/jakingsarchly-aj-technologies/svc-sample' target=\"_blank\">https://wandb.ai/jakingsarchly-aj-technologies/svc-sample</a>"
      ],
      "text/plain": [
       "<IPython.core.display.HTML object>"
      ]
     },
     "metadata": {},
     "output_type": "display_data"
    },
    {
     "data": {
      "text/html": [
       " View run at <a href='https://wandb.ai/jakingsarchly-aj-technologies/svc-sample/runs/tzy0aus4' target=\"_blank\">https://wandb.ai/jakingsarchly-aj-technologies/svc-sample/runs/tzy0aus4</a>"
      ],
      "text/plain": [
       "<IPython.core.display.HTML object>"
      ]
     },
     "metadata": {},
     "output_type": "display_data"
    },
    {
     "name": "stdout",
     "output_type": "stream",
     "text": [
      "Response from Google Generative AI processed and logged to W&B.\n",
      "Dictionary:  \n"
     ]
    }
   ],
   "source": [
    "from logllm.log_llm import log_llm\n",
    "\n",
    "notebook_path = \"svc-sample.ipynb\" # Here is target file to log\n",
    "\n",
    "log_llm(notebook_path,is_logging=True)"
   ]
  },
  {
   "cell_type": "code",
   "execution_count": 3,
   "metadata": {},
   "outputs": [
    {
     "data": {
      "text/html": [
       "Finishing last run (ID:cgiewcph) before initializing another..."
      ],
      "text/plain": [
       "<IPython.core.display.HTML object>"
      ]
     },
     "metadata": {},
     "output_type": "display_data"
    },
    {
     "data": {
      "application/vnd.jupyter.widget-view+json": {
       "model_id": "1948cf8b7b924ea18bcac164243eea12",
       "version_major": 2,
       "version_minor": 0
      },
      "text/plain": [
       "VBox(children=(Label(value='0.001 MB of 0.001 MB uploaded\\r'), FloatProgress(value=1.0, max=1.0)))"
      ]
     },
     "metadata": {},
     "output_type": "display_data"
    },
    {
     "data": {
      "text/html": [
       "<style>\n",
       "    table.wandb td:nth-child(1) { padding: 0 10px; text-align: left ; width: auto;} td:nth-child(2) {text-align: left ; width: 100%}\n",
       "    .wandb-row { display: flex; flex-direction: row; flex-wrap: wrap; justify-content: flex-start; width: 100% }\n",
       "    .wandb-col { display: flex; flex-direction: column; flex-basis: 100%; flex: 1; padding: 10px; }\n",
       "    </style>\n",
       "<div class=\"wandb-row\"><div class=\"wandb-col\"><h3>Run history:</h3><br/><table class=\"wandb\"><tr><td>param_value_1</td><td>▁</td></tr><tr><td>param_value_10</td><td>▁</td></tr><tr><td>param_value_11</td><td>▁</td></tr><tr><td>param_value_12</td><td>▁</td></tr><tr><td>param_value_13</td><td>▁</td></tr><tr><td>param_value_15</td><td>▁</td></tr><tr><td>param_value_16</td><td>▁</td></tr><tr><td>param_value_18</td><td>▁</td></tr><tr><td>param_value_2</td><td>▁</td></tr><tr><td>param_value_3</td><td>▁</td></tr><tr><td>param_value_4</td><td>▁</td></tr><tr><td>param_value_5</td><td>▁</td></tr><tr><td>param_value_7</td><td>▁</td></tr><tr><td>param_value_9</td><td>▁</td></tr><tr><td>result_value_1</td><td>▁</td></tr><tr><td>result_value_2</td><td>▁</td></tr><tr><td>result_value_3</td><td>▁</td></tr><tr><td>result_value_4</td><td>▁</td></tr><tr><td>result_value_5</td><td>▁</td></tr></table><br/></div><div class=\"wandb-col\"><h3>Run summary:</h3><br/><table class=\"wandb\"><tr><td>advice</td><td>Try different kernel...</td></tr><tr><td>param_name_1</td><td>test_size</td></tr><tr><td>param_name_10</td><td>shrinking</td></tr><tr><td>param_name_11</td><td>probability</td></tr><tr><td>param_name_12</td><td>tol</td></tr><tr><td>param_name_13</td><td>cache_size</td></tr><tr><td>param_name_14</td><td>class_weight</td></tr><tr><td>param_name_15</td><td>verbose</td></tr><tr><td>param_name_16</td><td>max_iter</td></tr><tr><td>param_name_17</td><td>decision_function_sh...</td></tr><tr><td>param_name_18</td><td>break_ties</td></tr><tr><td>param_name_19</td><td>random_state</td></tr><tr><td>param_name_2</td><td>random_state</td></tr><tr><td>param_name_3</td><td>shuffle</td></tr><tr><td>param_name_4</td><td>stratify</td></tr><tr><td>param_name_5</td><td>C</td></tr><tr><td>param_name_6</td><td>kernel</td></tr><tr><td>param_name_7</td><td>degree</td></tr><tr><td>param_name_8</td><td>gamma</td></tr><tr><td>param_name_9</td><td>coef0</td></tr><tr><td>param_value_1</td><td>0.2</td></tr><tr><td>param_value_10</td><td>True</td></tr><tr><td>param_value_11</td><td>False</td></tr><tr><td>param_value_12</td><td>0.001</td></tr><tr><td>param_value_13</td><td>200</td></tr><tr><td>param_value_15</td><td>False</td></tr><tr><td>param_value_16</td><td>-1</td></tr><tr><td>param_value_17</td><td>ovr</td></tr><tr><td>param_value_18</td><td>False</td></tr><tr><td>param_value_2</td><td>42</td></tr><tr><td>param_value_3</td><td>True</td></tr><tr><td>param_value_4</td><td>True</td></tr><tr><td>param_value_5</td><td>1.0</td></tr><tr><td>param_value_6</td><td>linear</td></tr><tr><td>param_value_7</td><td>3</td></tr><tr><td>param_value_8</td><td>auto</td></tr><tr><td>param_value_9</td><td>0.0</td></tr><tr><td>result_name_1</td><td>accuracy</td></tr><tr><td>result_name_2</td><td>precision</td></tr><tr><td>result_name_3</td><td>recall</td></tr><tr><td>result_name_4</td><td>f1-score</td></tr><tr><td>result_name_5</td><td>support</td></tr><tr><td>result_value_1</td><td>1.0</td></tr><tr><td>result_value_2</td><td>1.0</td></tr><tr><td>result_value_3</td><td>1.0</td></tr><tr><td>result_value_4</td><td>1.0</td></tr><tr><td>result_value_5</td><td>10</td></tr></table><br/></div></div>"
      ],
      "text/plain": [
       "<IPython.core.display.HTML object>"
      ]
     },
     "metadata": {},
     "output_type": "display_data"
    },
    {
     "data": {
      "text/html": [
       " View run <strong style=\"color:#cdcd00\">feasible-firefly-6</strong> at: <a href='https://wandb.ai/jakingsarchly-aj-technologies/Machine%20learning/runs/cgiewcph' target=\"_blank\">https://wandb.ai/jakingsarchly-aj-technologies/Machine%20learning/runs/cgiewcph</a><br/> View project at: <a href='https://wandb.ai/jakingsarchly-aj-technologies/Machine%20learning' target=\"_blank\">https://wandb.ai/jakingsarchly-aj-technologies/Machine%20learning</a><br/>Synced 6 W&B file(s), 0 media file(s), 0 artifact file(s) and 0 other file(s)"
      ],
      "text/plain": [
       "<IPython.core.display.HTML object>"
      ]
     },
     "metadata": {},
     "output_type": "display_data"
    },
    {
     "data": {
      "text/html": [
       "Find logs at: <code>./wandb/run-20240829_234314-cgiewcph/logs</code>"
      ],
      "text/plain": [
       "<IPython.core.display.HTML object>"
      ]
     },
     "metadata": {},
     "output_type": "display_data"
    },
    {
     "data": {
      "text/html": [
       "The new W&B backend becomes opt-out in version 0.18.0; try it out with `wandb.require(\"core\")`! See https://wandb.me/wandb-core for more information."
      ],
      "text/plain": [
       "<IPython.core.display.HTML object>"
      ]
     },
     "metadata": {},
     "output_type": "display_data"
    },
    {
     "data": {
      "text/html": [
       "Successfully finished last run (ID:cgiewcph). Initializing new run:<br/>"
      ],
      "text/plain": [
       "<IPython.core.display.HTML object>"
      ]
     },
     "metadata": {},
     "output_type": "display_data"
    },
    {
     "data": {
      "application/vnd.jupyter.widget-view+json": {
       "model_id": "85e6384590334d3cbe7d0a9af4c13821",
       "version_major": 2,
       "version_minor": 0
      },
      "text/plain": [
       "VBox(children=(Label(value='Waiting for wandb.init()...\\r'), FloatProgress(value=0.011427467188877927, max=1.0…"
      ]
     },
     "metadata": {},
     "output_type": "display_data"
    },
    {
     "data": {
      "text/html": [
       "wandb version 0.17.8 is available!  To upgrade, please run:\n",
       " $ pip install wandb --upgrade"
      ],
      "text/plain": [
       "<IPython.core.display.HTML object>"
      ]
     },
     "metadata": {},
     "output_type": "display_data"
    },
    {
     "data": {
      "text/html": [
       "Tracking run with wandb version 0.17.7"
      ],
      "text/plain": [
       "<IPython.core.display.HTML object>"
      ]
     },
     "metadata": {},
     "output_type": "display_data"
    },
    {
     "data": {
      "text/html": [
       "Run data is saved locally in <code>/Users/jake/vscode/logllm/demos/wandb/run-20240829_234514-7yf7z1q5</code>"
      ],
      "text/plain": [
       "<IPython.core.display.HTML object>"
      ]
     },
     "metadata": {},
     "output_type": "display_data"
    },
    {
     "data": {
      "text/html": [
       "Syncing run <strong><a href='https://wandb.ai/jakingsarchly-aj-technologies/Machine%20learning/runs/7yf7z1q5' target=\"_blank\">lyric-sunset-7</a></strong> to <a href='https://wandb.ai/jakingsarchly-aj-technologies/Machine%20learning' target=\"_blank\">Weights & Biases</a> (<a href='https://wandb.me/run' target=\"_blank\">docs</a>)<br/>"
      ],
      "text/plain": [
       "<IPython.core.display.HTML object>"
      ]
     },
     "metadata": {},
     "output_type": "display_data"
    },
    {
     "data": {
      "text/html": [
       " View project at <a href='https://wandb.ai/jakingsarchly-aj-technologies/Machine%20learning' target=\"_blank\">https://wandb.ai/jakingsarchly-aj-technologies/Machine%20learning</a>"
      ],
      "text/plain": [
       "<IPython.core.display.HTML object>"
      ]
     },
     "metadata": {},
     "output_type": "display_data"
    },
    {
     "data": {
      "text/html": [
       " View run at <a href='https://wandb.ai/jakingsarchly-aj-technologies/Machine%20learning/runs/7yf7z1q5' target=\"_blank\">https://wandb.ai/jakingsarchly-aj-technologies/Machine%20learning/runs/7yf7z1q5</a>"
      ],
      "text/plain": [
       "<IPython.core.display.HTML object>"
      ]
     },
     "metadata": {},
     "output_type": "display_data"
    },
    {
     "name": "stdout",
     "output_type": "stream",
     "text": [
      "response:  {\n",
      "    \"param_name_1\": {\n",
      "        \"condition_as_natural_language\": \"Support Vector Machine model with linear kernel\",\n",
      "        \"condition_as_int\": null,\n",
      "        \"condition_as_bool\": null,\n",
      "        \"condition_as_float\": null,\n",
      "        \"result_as_int\": 10,\n",
      "        \"result_as_bool\": null,\n",
      "        \"result_as_float\": 1.0\n",
      "    },\n",
      "    \"param_name_2\": {\n",
      "        \"condition_as_natural_language\": \"Test size is 20%\",\n",
      "        \"condition_as_int\": null,\n",
      "        \"condition_as_bool\": null,\n",
      "        \"condition_as_float\": 0.2,\n",
      "        \"result_as_int\": null,\n",
      "        \"result_as_bool\": null,\n",
      "        \"result_as_float\": null\n",
      "    },\n",
      "    \"param_name_3\": {\n",
      "        \"condition_as_natural_language\": \"Random state is 42\",\n",
      "        \"condition_as_int\": 42,\n",
      "        \"condition_as_bool\": null,\n",
      "        \"condition_as_float\": null,\n",
      "        \"result_as_int\": null,\n",
      "        \"result_as_bool\": null,\n",
      "        \"result_as_float\": null\n",
      "    },\n",
      "    \"param_name_4\": {\n",
      "        \"condition_as_natural_language\": \"Shuffle is True\",\n",
      "        \"condition_as_int\": null,\n",
      "        \"condition_as_bool\": true,\n",
      "        \"condition_as_float\": null,\n",
      "        \"result_as_int\": null,\n",
      "        \"result_as_bool\": null,\n",
      "        \"result_as_float\": null\n",
      "    },\n",
      "    \"param_name_5\": {\n",
      "        \"condition_as_natural_language\": \"Stratify is True\",\n",
      "        \"condition_as_int\": null,\n",
      "        \"condition_as_bool\": true,\n",
      "        \"condition_as_float\": null,\n",
      "        \"result_as_int\": null,\n",
      "        \"result_as_bool\": null,\n",
      "        \"result_as_float\": null\n",
      "    },\n",
      "    \"param_name_6\": {\n",
      "        \"condition_as_natural_language\": \"C is 1.0\",\n",
      "        \"condition_as_int\": null,\n",
      "        \"condition_as_bool\": null,\n",
      "        \"condition_as_float\": 1.0,\n",
      "        \"result_as_int\": null,\n",
      "        \"result_as_bool\": null,\n",
      "        \"result_as_float\": null\n",
      "    },\n",
      "    \"param_name_7\": {\n",
      "        \"condition_as_natural_language\": \"Kernel is linear\",\n",
      "        \"condition_as_int\": null,\n",
      "        \"condition_as_bool\": null,\n",
      "        \"condition_as_float\": null,\n",
      "        \"result_as_int\": null,\n",
      "        \"result_as_bool\": null,\n",
      "        \"result_as_float\": null\n",
      "    },\n",
      "    \"param_name_8\": {\n",
      "        \"condition_as_natural_language\": \"Degree is 3\",\n",
      "        \"condition_as_int\": 3,\n",
      "        \"condition_as_bool\": null,\n",
      "        \"condition_as_float\": null,\n",
      "        \"result_as_int\": null,\n",
      "        \"result_as_bool\": null,\n",
      "        \"result_as_float\": null\n",
      "    },\n",
      "    \"param_name_9\": {\n",
      "        \"condition_as_natural_language\": \"Gamma is auto\",\n",
      "        \"condition_as_int\": null,\n",
      "        \"condition_as_bool\": null,\n",
      "        \"condition_as_float\": null,\n",
      "        \"result_as_int\": null,\n",
      "        \"result_as_bool\": null,\n",
      "        \"result_as_float\": null\n",
      "    },\n",
      "    \"param_name_10\": {\n",
      "        \"condition_as_natural_language\": \"Coef0 is 0.0\",\n",
      "        \"condition_as_int\": null,\n",
      "        \"condition_as_bool\": null,\n",
      "        \"condition_as_float\": 0.0,\n",
      "        \"result_as_int\": null,\n",
      "        \"result_as_bool\": null,\n",
      "        \"result_as_float\": null\n",
      "    },\n",
      "    \"param_name_11\": {\n",
      "        \"condition_as_natural_language\": \"Shrinking is True\",\n",
      "        \"condition_as_int\": null,\n",
      "        \"condition_as_bool\": true,\n",
      "        \"condition_as_float\": null,\n",
      "        \"result_as_int\": null,\n",
      "        \"result_as_bool\": null,\n",
      "        \"result_as_float\": null\n",
      "    },\n",
      "    \"param_name_12\": {\n",
      "        \"condition_as_natural_language\": \"Probability is False\",\n",
      "        \"condition_as_int\": null,\n",
      "        \"condition_as_bool\": false,\n",
      "        \"condition_as_float\": null,\n",
      "        \"result_as_int\": null,\n",
      "        \"result_as_bool\": null,\n",
      "        \"result_as_float\": null\n",
      "    },\n",
      "    \"param_name_13\": {\n",
      "        \"condition_as_natural_language\": \"Tol is 1e-3\",\n",
      "        \"condition_as_int\": null,\n",
      "        \"condition_as_bool\": null,\n",
      "        \"condition_as_float\": 0.001,\n",
      "        \"result_as_int\": null,\n",
      "        \"result_as_bool\": null,\n",
      "        \"result_as_float\": null\n",
      "    },\n",
      "    \"param_name_14\": {\n",
      "        \"condition_as_natural_language\": \"Cache size is 200\",\n",
      "        \"condition_as_int\": 200,\n",
      "        \"condition_as_bool\": null,\n",
      "        \"condition_as_float\": null,\n",
      "        \"result_as_int\": null,\n",
      "        \"result_as_bool\": null,\n",
      "        \"result_as_float\": null\n",
      "    },\n",
      "    \"param_name_15\": {\n",
      "        \"condition_as_natural_language\": \"Class weight is None\",\n",
      "        \"condition_as_int\": null,\n",
      "        \"condition_as_bool\": null,\n",
      "        \"condition_as_float\": null,\n",
      "        \"result_as_int\": null,\n",
      "        \"result_as_bool\": null,\n",
      "        \"result_as_float\": null\n",
      "    },\n",
      "    \"param_name_16\": {\n",
      "        \"condition_as_natural_language\": \"Verbose is False\",\n",
      "        \"condition_as_int\": null,\n",
      "        \"condition_as_bool\": false,\n",
      "        \"condition_as_float\": null,\n",
      "        \"result_as_int\": null,\n",
      "        \"result_as_bool\": null,\n",
      "        \"result_as_float\": null\n",
      "    },\n",
      "    \"param_name_17\": {\n",
      "        \"condition_as_natural_language\": \"Max iter is -1\",\n",
      "        \"condition_as_int\": -1,\n",
      "        \"condition_as_bool\": null,\n",
      "        \"condition_as_float\": null,\n",
      "        \"result_as_int\": null,\n",
      "        \"result_as_bool\": null,\n",
      "        \"result_as_float\": null\n",
      "    },\n",
      "    \"param_name_18\": {\n",
      "        \"condition_as_natural_language\": \"Decision function shape is ovr\",\n",
      "        \"condition_as_int\": null,\n",
      "        \"condition_as_bool\": null,\n",
      "        \"condition_as_float\": null,\n",
      "        \"result_as_int\": null,\n",
      "        \"result_as_bool\": null,\n",
      "        \"result_as_float\": null\n",
      "    },\n",
      "    \"param_name_19\": {\n",
      "        \"condition_as_natural_language\": \"Break ties is False\",\n",
      "        \"condition_as_int\": null,\n",
      "        \"condition_as_bool\": false,\n",
      "        \"condition_as_float\": null,\n",
      "        \"result_as_int\": null,\n",
      "        \"result_as_bool\": null,\n",
      "        \"result_as_float\": null\n",
      "    },\n",
      "    \"param_name_20\": {\n",
      "        \"condition_as_natural_language\": \"Random state is None\",\n",
      "        \"condition_as_int\": null,\n",
      "        \"condition_as_bool\": null,\n",
      "        \"condition_as_float\": null,\n",
      "        \"result_as_int\": null,\n",
      "        \"result_as_bool\": null,\n",
      "        \"result_as_float\": null\n",
      "    },\n",
      "    \"param_name_21\": {\n",
      "        \"condition_as_natural_language\": \"Excluded class is 1\",\n",
      "        \"condition_as_int\": 1,\n",
      "        \"condition_as_bool\": null,\n",
      "        \"condition_as_float\": null,\n",
      "        \"result_as_int\": null,\n",
      "        \"result_as_bool\": null,\n",
      "        \"result_as_float\": null\n",
      "    },\n",
      "    \"advice\": \"Try different kernels, like 'rbf' or 'poly', and adjust the hyperparameters (C, gamma) to see if you can improve the accuracy.\"\n",
      "}\n",
      "Response from the provider processed and logged to W&B.\n",
      "It seems like you're trying to find the best model based on a set of parameters and their corresponding results. However, the provided data is not in a format that can be directly used for a W&B API query. \n",
      "\n",
      "To help you create a W&B API query, I need more information:\n",
      "\n",
      "1. **What is the metric you are using to evaluate the \"best\" model?**  Is it accuracy, precision, recall, F1-score, or something else?\n",
      "2. **What is the name of the experiment or project in Weights & Biases where you have logged these results?**\n",
      "3. **What is the specific W&B API endpoint you want to use?**  For example, are you looking to retrieve the best model based on a specific metric, or are you trying to filter runs based on certain parameter values?\n",
      "\n",
      "Once you provide this information, I can help you construct a W&B API query to find the best model based on your criteria. \n",
      "\n"
     ]
    }
   ],
   "source": [
    "from logllm.log_llm import log_llm\n",
    "from logllm.query import query\n",
    "\n",
    "notebook_path = \"svc-sample.ipynb\" \n",
    "# code_string = extract_notebook_code(notebook_path)\n",
    "\n",
    "# Extract experimental conditions and results using log_llm\n",
    "code_string = log_llm(notebook_path, project_name=\"Machine learning\", is_logging=True, provider=\"gemini\")\n",
    "\n",
    "# Use the parsed_json as user_input for the query\n",
    "response = query(f\"\"\"Whats the best model?. {code_string}\"\"\", provider=\"gemini\")\n",
    "\n",
    "# Print the response from the query\n",
    "print(response)"
   ]
  }
 ],
 "metadata": {
  "kernelspec": {
   "display_name": "venv",
   "language": "python",
   "name": "python3"
  },
  "language_info": {
   "codemirror_mode": {
    "name": "ipython",
    "version": 3
   },
   "file_extension": ".py",
   "mimetype": "text/x-python",
   "name": "python",
   "nbconvert_exporter": "python",
   "pygments_lexer": "ipython3",
   "version": "3.12.4"
  }
 },
 "nbformat": 4,
 "nbformat_minor": 2
}
